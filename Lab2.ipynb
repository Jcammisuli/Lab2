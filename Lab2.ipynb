{
 "cells": [
  {
   "cell_type": "code",
   "execution_count": 15,
   "id": "9fa3717f-f93e-44f9-8ca3-8304983b46d6",
   "metadata": {},
   "outputs": [
    {
     "name": "stdin",
     "output_type": "stream",
     "text": [
      "Please enter a number:  6\n"
     ]
    },
    {
     "name": "stdout",
     "output_type": "stream",
     "text": [
      "The type of x is: <class 'str'>\n"
     ]
    }
   ],
   "source": [
    "# Prompt the user for input and store it in variable x\n",
    "x = input(\"Please enter a number: \")\n",
    "\n",
    "# Check the type of x\n",
    "print(f\"The type of x is: {type(x)}\")  # This will show that x is of type str\n",
    "\n",
    "# Convert x to an integer\n",
    "\n",
    "x = int()\n",
    "\n",
    "# If x is greater than or equal to 6\n",
    "if x >= 6:\n",
    "    print(\"x is greater than or equal to 6!\")\n",
    "\n",
    "# If x is greater than or equal to 4 and less than 12\n",
    "if x >= 4 and x < 12:\n",
    "    print(\"x is between 4 and 12!\")\n"
   ]
  },
  {
   "cell_type": "code",
   "execution_count": 10,
   "id": "2f002bb9-c9ba-4cc5-a789-1c3773235319",
   "metadata": {},
   "outputs": [
    {
     "name": "stdin",
     "output_type": "stream",
     "text": [
      "Please enter a 4-digit integer:  1985\n"
     ]
    },
    {
     "name": "stdout",
     "output_type": "stream",
     "text": [
      "Not quite right!\n"
     ]
    }
   ],
   "source": [
    "# Ask the user to enter a 4-digit integer\n",
    "num = input(\"Please enter a 4-digit integer: \")\n",
    "\n",
    "# Check if the input is '1984'\n",
    "if num == \"1984\":\n",
    "    print(\"George Orwell\")\n",
    "else:\n",
    "    print(\"Not quite right!\")\n"
   ]
  },
  {
   "cell_type": "code",
   "execution_count": 13,
   "id": "acfc676f-a19b-4c1f-ac3e-efb781694229",
   "metadata": {},
   "outputs": [
    {
     "name": "stdin",
     "output_type": "stream",
     "text": [
      "Please enter the first sentence:  hello\n",
      "Please enter the second sentence:  hello my name is joseph\n"
     ]
    },
    {
     "name": "stdout",
     "output_type": "stream",
     "text": [
      "hello my name is joseph is longer than hello!\n"
     ]
    }
   ],
   "source": [
    "# Ask the user to input two sentences\n",
    "str1 = input(\"Please enter the first sentence: \")\n",
    "str2 = input(\"Please enter the second sentence: \")\n",
    "\n",
    "# Compare the lengths of the sentences\n",
    "if len(str1) > len(str2):\n",
    "    print(f\"{str1} is longer than {str2}!\")\n",
    "elif len(str1) < len(str2):\n",
    "    print(f\"{str2} is longer than {str1}!\")\n",
    "else:\n",
    "    print(f\"{str1} and {str2} are of equal length!\")\n"
   ]
  },
  {
   "cell_type": "code",
   "execution_count": null,
   "id": "41e5f3df-9fd8-4e32-9b76-4d2e2a4ff439",
   "metadata": {},
   "outputs": [],
   "source": []
  },
  {
   "cell_type": "code",
   "execution_count": null,
   "id": "f03d998a-0180-49f1-8ed0-e309bec6971f",
   "metadata": {},
   "outputs": [],
   "source": []
  },
  {
   "cell_type": "code",
   "execution_count": null,
   "id": "6705915b-9366-4b8b-8ea4-91517b10ae43",
   "metadata": {},
   "outputs": [],
   "source": []
  },
  {
   "cell_type": "code",
   "execution_count": null,
   "id": "ee1ef430-569c-4075-84bc-20d969916e2a",
   "metadata": {},
   "outputs": [],
   "source": []
  },
  {
   "cell_type": "code",
   "execution_count": null,
   "id": "d5c47d95-bc3c-477a-a530-f67301005f05",
   "metadata": {},
   "outputs": [],
   "source": []
  },
  {
   "cell_type": "code",
   "execution_count": null,
   "id": "e9ff1cde-717d-4174-af8a-eef57ce878ed",
   "metadata": {},
   "outputs": [],
   "source": []
  },
  {
   "cell_type": "code",
   "execution_count": null,
   "id": "3106181d-3bd0-4b19-9b0d-c8f1fce022bc",
   "metadata": {},
   "outputs": [],
   "source": []
  }
 ],
 "metadata": {
  "kernelspec": {
   "display_name": "Python 3",
   "language": "python",
   "name": "python3"
  },
  "language_info": {
   "codemirror_mode": {
    "name": "ipython",
    "version": 3
   },
   "file_extension": ".py",
   "mimetype": "text/x-python",
   "name": "python",
   "nbconvert_exporter": "python",
   "pygments_lexer": "ipython3",
   "version": "3.8.8"
  }
 },
 "nbformat": 4,
 "nbformat_minor": 5
}
