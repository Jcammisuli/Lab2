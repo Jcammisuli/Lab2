{
 "cells": [
  {
   "cell_type": "code",
   "execution_count": 2,
   "id": "9fa3717f-f93e-44f9-8ca3-8304983b46d6",
   "metadata": {},
   "outputs": [
    {
     "name": "stdin",
     "output_type": "stream",
     "text": [
      "Please enter a number:  1\n"
     ]
    },
    {
     "name": "stdout",
     "output_type": "stream",
     "text": [
      "The type of x is: <class 'str'>\n"
     ]
    }
   ],
   "source": [
    "# Prompt the user for input and store it in variable x\n",
    "x = input(\"Please enter a number: \")\n",
    "\n",
    "# Check the type of x\n",
    "print(f\"The type of x is: {type(x)}\")  # This will show that x is of type str\n",
    "\n",
    "# Convert x to an integer\n",
    "\n",
    "x = int()\n",
    "\n",
    "# If x is greater than or equal to 6\n",
    "if x >= 6:\n",
    "    print(\"x is greater than or equal to 6!\")\n",
    "\n",
    "# If x is greater than or equal to 4 and less than 12\n",
    "if x >= 4 and x < 12:\n",
    "    print(\"x is between 4 and 12!\")\n"
   ]
  },
  {
   "cell_type": "code",
   "execution_count": 10,
   "id": "2f002bb9-c9ba-4cc5-a789-1c3773235319",
   "metadata": {},
   "outputs": [
    {
     "name": "stdin",
     "output_type": "stream",
     "text": [
      "Please enter a 4-digit integer:  1985\n"
     ]
    },
    {
     "name": "stdout",
     "output_type": "stream",
     "text": [
      "Not quite right!\n"
     ]
    }
   ],
   "source": [
    "# Ask the user to enter a 4-digit integer\n",
    "num = input(\"Please enter a 4-digit integer: \")\n",
    "\n",
    "# Check if the input is '1984'\n",
    "if num == \"1984\":\n",
    "    print(\"George Orwell\")\n",
    "else:\n",
    "    print(\"Not quite right!\")\n"
   ]
  },
  {
   "cell_type": "code",
   "execution_count": 13,
   "id": "acfc676f-a19b-4c1f-ac3e-efb781694229",
   "metadata": {},
   "outputs": [
    {
     "name": "stdin",
     "output_type": "stream",
     "text": [
      "Please enter the first sentence:  hello\n",
      "Please enter the second sentence:  hello my name is joseph\n"
     ]
    },
    {
     "name": "stdout",
     "output_type": "stream",
     "text": [
      "hello my name is joseph is longer than hello!\n"
     ]
    }
   ],
   "source": [
    "# Ask the user to input two sentences\n",
    "str1 = input(\"Please enter the first sentence: \")\n",
    "str2 = input(\"Please enter the second sentence: \")\n",
    "\n",
    "# Compare the lengths of the sentences\n",
    "if len(str1) > len(str2):\n",
    "    print(f\"{str1} is longer than {str2}!\")\n",
    "elif len(str1) < len(str2):\n",
    "    print(f\"{str2} is longer than {str1}!\")\n",
    "else:\n",
    "    print(f\"{str1} and {str2} are of equal length!\")\n"
   ]
  },
  {
   "cell_type": "code",
   "execution_count": 3,
   "id": "41e5f3df-9fd8-4e32-9b76-4d2e2a4ff439",
   "metadata": {},
   "outputs": [
    {
     "name": "stdout",
     "output_type": "stream",
     "text": [
      "3.8.8 (default, Apr 13 2021, 15:08:03) [MSC v.1916 64 bit (AMD64)]\n",
      "win32\n",
      "['C:\\\\ProgramData\\\\Anaconda3\\\\lib\\\\site-packages\\\\ipykernel_launcher.py', '-f', 'C:\\\\Users\\\\jcammisuli\\\\AppData\\\\Roaming\\\\jupyter\\\\runtime\\\\kernel-8f161824-dd36-4ce1-94b4-df35527c0d76.json']\n",
      "3\n",
      "C:\\ProgramData\\Anaconda3\\lib\\site-packages\\ipykernel_launcher.py\n",
      "-f\n",
      "C:\\Users\\jcammisuli\\AppData\\Roaming\\jupyter\\runtime\\kernel-8f161824-dd36-4ce1-94b4-df35527c0d76.json\n",
      "3\n"
     ]
    }
   ],
   "source": [
    "# Import the sys module\n",
    "import sys\n",
    "\n",
    "# Print the version of the Python currently in use\n",
    "print(sys.version)  # prints the version of the python currently in use.\n",
    "\n",
    "# Print the name of the operating system\n",
    "print(sys.platform)  # prints the name of the operating system.\n",
    "\n",
    "# Print the list of all arguments given at the command line\n",
    "print(sys.argv)  # prints the list of all arguments given at the command line when running our python script from terminal.\n",
    "\n",
    "# Print the number of command line arguments\n",
    "print(len(sys.argv))  # tells us the number of command line arguments the user provides from terminal.\n",
    "\n",
    "# Print the first argument (script name)\n",
    "print(sys.argv[0])  # prints the first argument, it is always the name of the script.\n",
    "\n",
    "# Check if there are additional arguments before accessing them\n",
    "if len(sys.argv) > 1:\n",
    "    print(sys.argv[1])  # prints the second argument.\n",
    "if len(sys.argv) > 2:\n",
    "    print(sys.argv[2])  # prints the third argument.\n",
    "\n",
    "# Print the number of command line arguments again\n",
    "print(len(sys.argv))  # tells us the number of command line arguments the user provides from terminal.\n"
   ]
  },
  {
   "cell_type": "code",
   "execution_count": 5,
   "id": "f03d998a-0180-49f1-8ed0-e309bec6971f",
   "metadata": {},
   "outputs": [
    {
     "name": "stdout",
     "output_type": "stream",
     "text": [
      "Hello user, good job, your provided two arguments!\n"
     ]
    }
   ],
   "source": [
    "# Import the sys module\n",
    "import sys\n",
    "\n",
    "# Check how many arguments were provided\n",
    "num_args = len(sys.argv) - 1  # Subtract 1 for the script name\n",
    "\n",
    "if num_args == 0:\n",
    "    print(\"This script requires exactly two arguments. No arguments were provided!\")\n",
    "elif num_args == 2:\n",
    "    print(\"Hello user, good job, your provided two arguments!\")\n",
    "else:\n",
    "    print(f\"This script requires exactly two arguments. You provided {num_args} arguments.\")\n"
   ]
  },
  {
   "cell_type": "code",
   "execution_count": 6,
   "id": "6705915b-9366-4b8b-8ea4-91517b10ae43",
   "metadata": {},
   "outputs": [
    {
     "name": "stdout",
     "output_type": "stream",
     "text": [
      "Hi -f, you are C:\\Users\\jcammisuli\\AppData\\Roaming\\jupyter\\runtime\\kernel-8f161824-dd36-4ce1-94b4-df35527c0d76.json years old and the script received 3 arguments.\n"
     ]
    }
   ],
   "source": [
    "# Import the sys module\n",
    "import sys\n",
    "\n",
    "# Create variables for name and age\n",
    "if len(sys.argv) < 3:\n",
    "    print(\"The script requires at least 2 arguments.\")\n",
    "else:\n",
    "    name = sys.argv[1]  # Assign the first argument to name\n",
    "    age = sys.argv[2]   # Assign the second argument to age\n",
    "    num_args = len(sys.argv)  # Count the number of arguments\n",
    "\n",
    "    # Use if-elif structure to format the output\n",
    "    if num_args == 3:\n",
    "        print(f\"Hi {name}, you are {age} years old and the script received {num_args} arguments.\")\n",
    "    else:\n",
    "        print(f\"Hi {name}, you are {age} years old and the script received {num_args} arguments.\")\n"
   ]
  },
  {
   "cell_type": "code",
   "execution_count": 8,
   "id": "ee1ef430-569c-4075-84bc-20d969916e2a",
   "metadata": {},
   "outputs": [
    {
     "name": "stdin",
     "output_type": "stream",
     "text": [
      "Enter your income (in thousands):  50\n",
      "Enter your marital status (single/married):  single\n"
     ]
    },
    {
     "name": "stdout",
     "output_type": "stream",
     "text": [
      "Based on an income of 50.0 thousands and a single status, the calculated tax is: 10.0 thousands.\n"
     ]
    }
   ],
   "source": [
    "# Tax Calculation Program\n",
    "\n",
    "# Input: Get user income and status\n",
    "income = float(input(\"Enter your income (in thousands): \"))  # e.g., 50 for $50,000\n",
    "status = input(\"Enter your marital status (single/married): \").lower()  # Ensure lowercase\n",
    "\n",
    "# Tax calculation logic\n",
    "if status == \"single\":\n",
    "    if income < 50:\n",
    "        tax = income * 0.10  # 10% tax\n",
    "    elif 50 <= income < 100:\n",
    "        tax = income * 0.20  # 20% tax\n",
    "    else:\n",
    "        tax = income * 0.30  # 30% tax\n",
    "elif status == \"married\":\n",
    "    if income < 80:\n",
    "        tax = income * 0.08  # 8% tax\n",
    "    elif 80 <= income < 150:\n",
    "        tax = income * 0.15  # 15% tax\n",
    "    else:\n",
    "        tax = income * 0.25  # 25% tax\n",
    "else:\n",
    "    print(\"Invalid marital status. Please enter 'single' or 'married'.\")\n",
    "    exit()\n",
    "\n",
    "# Output: Print the calculated tax\n",
    "print(f\"Based on an income of {income} thousands and a {status} status, the calculated tax is: {tax} thousands.\")\n"
   ]
  },
  {
   "cell_type": "code",
   "execution_count": 9,
   "id": "d5c47d95-bc3c-477a-a530-f67301005f05",
   "metadata": {},
   "outputs": [
    {
     "name": "stdout",
     "output_type": "stream",
     "text": [
      "10\n",
      "9\n",
      "8\n",
      "7\n",
      "6\n",
      "5\n",
      "4\n",
      "3\n",
      "2\n",
      "1\n",
      "Blast off!\n"
     ]
    }
   ],
   "source": [
    "# Countdown Program\n",
    "\n",
    "# Initialize the timer variable\n",
    "timer = 10\n",
    "\n",
    "# While loop to countdown from 10 to 1\n",
    "while timer > 0:\n",
    "    print(timer)\n",
    "    timer -= 1  # Decrease the timer by 1\n",
    "\n",
    "# Print the final message\n",
    "print(\"Blast off!\")\n"
   ]
  },
  {
   "cell_type": "code",
   "execution_count": 14,
   "id": "e9ff1cde-717d-4174-af8a-eef57ce878ed",
   "metadata": {},
   "outputs": [
    {
     "name": "stdin",
     "output_type": "stream",
     "text": [
      "Guess what number less than 10 I am thinking of?  5\n"
     ]
    },
    {
     "name": "stdout",
     "output_type": "stream",
     "text": [
      "Incorrect guess, try again...\n"
     ]
    },
    {
     "name": "stdin",
     "output_type": "stream",
     "text": [
      "Guess what number less than 10 I am thinking of?  3\n"
     ]
    },
    {
     "name": "stdout",
     "output_type": "stream",
     "text": [
      "You got it right!\n"
     ]
    }
   ],
   "source": [
    "# Guessing Game\n",
    "\n",
    "# Initialize the correct guess\n",
    "guess = 3\n",
    "\n",
    "# Prompt the user for a guess\n",
    "number = int(input(\"Guess what number less than 10 I am thinking of? \"))\n",
    "\n",
    "# While loop to check the user's guess\n",
    "while number != guess:  # Loop condition\n",
    "    print(\"Incorrect guess, try again...\")\n",
    "    number = int(input(\"Guess what number less than 10 I am thinking of? \"))  # Ask for input again\n",
    "\n",
    "# This statement will be executed when the loop has terminated\n",
    "print(\"You got it right!\")  # This occurs when the user enters the number 5.\n"
   ]
  },
  {
   "cell_type": "code",
   "execution_count": 15,
   "id": "3106181d-3bd0-4b19-9b0d-c8f1fce022bc",
   "metadata": {},
   "outputs": [
    {
     "name": "stdin",
     "output_type": "stream",
     "text": [
      "Please type in your PIN:  1000\n"
     ]
    },
    {
     "name": "stdout",
     "output_type": "stream",
     "text": [
      "Incorrect...try again\n"
     ]
    },
    {
     "name": "stdin",
     "output_type": "stream",
     "text": [
      "Please type in your PIN:  1234\n"
     ]
    },
    {
     "name": "stdout",
     "output_type": "stream",
     "text": [
      "Correct PIN, You can enter!\n"
     ]
    }
   ],
   "source": [
    "# PIN Entry Program\n",
    "\n",
    "# Initialize the variable pin\n",
    "pin = \"\"\n",
    "\n",
    "# Use a while loop to continuously prompt for the PIN until the correct one is entered\n",
    "while pin != \"1234\":\n",
    "    pin = input(\"Please type in your PIN: \")  # Prompt user for input\n",
    "    if pin == \"1234\":\n",
    "        print(\"Correct PIN, You can enter!\")  # Message for correct PIN\n",
    "    else:\n",
    "        print(\"Incorrect...try again\")  # Message for incorrect PIN\n"
   ]
  },
  {
   "cell_type": "code",
   "execution_count": null,
   "id": "5f4114da-4c96-4666-9f22-0279a32360a5",
   "metadata": {},
   "outputs": [
    {
     "name": "stdin",
     "output_type": "stream",
     "text": [
      "Please type in a number:  3\n"
     ]
    },
    {
     "name": "stdout",
     "output_type": "stream",
     "text": [
      "1.7320508075688772\n"
     ]
    },
    {
     "name": "stdin",
     "output_type": "stream",
     "text": [
      "Please type in a number:  1\n"
     ]
    },
    {
     "name": "stdout",
     "output_type": "stream",
     "text": [
      "1.0\n"
     ]
    },
    {
     "name": "stdin",
     "output_type": "stream",
     "text": [
      "Please type in a number:  6\n"
     ]
    },
    {
     "name": "stdout",
     "output_type": "stream",
     "text": [
      "2.449489742783178\n"
     ]
    }
   ],
   "source": [
    "# Number Input Program\n",
    "\n",
    "import math  # Import math module to calculate square root\n",
    "\n",
    "# Start an infinite loop\n",
    "while True:\n",
    "    # Prompt the user to input a number\n",
    "    number = float(input(\"Please type in a number: \"))\n",
    "    \n",
    "    # Check for negative number\n",
    "    if number < 0:\n",
    "        print(\"Invalid number.\")\n",
    "        continue  # Skip to the next iteration\n",
    "    \n",
    "    # Check for zero\n",
    "    elif number == 0:\n",
    "        print(\"Exiting...\")\n",
    "        break  # Exit the loop\n",
    "    \n",
    "    # Handle non-negative numbers\n",
    "    else:\n",
    "        square_root = math.sqrt(number)  # Calculate the square root\n",
    "        print(square_root)  # Print the square root\n"
   ]
  },
  {
   "cell_type": "code",
   "execution_count": null,
   "id": "ca35ed51-24f3-4618-8467-6ff1d0ff96dd",
   "metadata": {},
   "outputs": [],
   "source": []
  }
 ],
 "metadata": {
  "kernelspec": {
   "display_name": "Python 3",
   "language": "python",
   "name": "python3"
  },
  "language_info": {
   "codemirror_mode": {
    "name": "ipython",
    "version": 3
   },
   "file_extension": ".py",
   "mimetype": "text/x-python",
   "name": "python",
   "nbconvert_exporter": "python",
   "pygments_lexer": "ipython3",
   "version": "3.8.8"
  }
 },
 "nbformat": 4,
 "nbformat_minor": 5
}
